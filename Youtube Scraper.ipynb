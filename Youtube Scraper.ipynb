{
 "cells": [
  {
   "cell_type": "markdown",
   "metadata": {},
   "source": [
    "# WELCOME TO THE YOUTUBE SCRAPER TUTORIAL"
   ]
  },
  {
   "cell_type": "code",
   "execution_count": 5,
   "metadata": {
    "ExecuteTime": {
     "end_time": "2020-07-09T10:31:54.089986Z",
     "start_time": "2020-07-09T10:31:41.589842Z"
    }
   },
   "outputs": [],
   "source": [
    "from bs4 import BeautifulSoup \n",
    "from urllib.request import urlopen, Request\n",
    "from selenium import webdriver\n",
    "import pandas as pd\n",
    "from IPython.display import IFrame, YouTubeVideo\n",
    "import os"
   ]
  },
  {
   "cell_type": "markdown",
   "metadata": {},
   "source": [
    "## To List and Change the Theme of the Notebook\n"
   ]
  },
  {
   "cell_type": "code",
   "execution_count": 6,
   "metadata": {
    "ExecuteTime": {
     "end_time": "2020-07-09T10:32:11.834248Z",
     "start_time": "2020-07-09T10:31:55.712047Z"
    },
    "collapsed": true
   },
   "outputs": [
    {
     "name": "stderr",
     "output_type": "stream",
     "text": [
      "usage: jt [-h] [-l] [-t THEME] [-f MONOFONT] [-fs MONOSIZE] [-nf NBFONT]\n",
      "          [-nfs NBFONTSIZE] [-tf TCFONT] [-tfs TCFONTSIZE] [-dfs DFFONTSIZE]\n",
      "          [-ofs OUTFONTSIZE] [-mathfs MATHFONTSIZE] [-m MARGINS]\n",
      "          [-cursw CURSORWIDTH] [-cursc CURSORCOLOR] [-cellw CELLWIDTH]\n",
      "          [-lineh LINEHEIGHT] [-altp] [-altmd] [-altout] [-P] [-T] [-N] [-kl]\n",
      "          [-vim] [-r] [-dfonts]\n",
      "jt: error: unrecognized arguments: #to list the theme\n",
      "usage: jt [-h] [-l] [-t THEME] [-f MONOFONT] [-fs MONOSIZE] [-nf NBFONT]\n",
      "          [-nfs NBFONTSIZE] [-tf TCFONT] [-tfs TCFONTSIZE] [-dfs DFFONTSIZE]\n",
      "          [-ofs OUTFONTSIZE] [-mathfs MATHFONTSIZE] [-m MARGINS]\n",
      "          [-cursw CURSORWIDTH] [-cursc CURSORCOLOR] [-cellw CELLWIDTH]\n",
      "          [-lineh LINEHEIGHT] [-altp] [-altmd] [-altout] [-P] [-T] [-N] [-kl]\n",
      "          [-vim] [-r] [-dfonts]\n",
      "jt: error: unrecognized arguments: #to set the theme one dork\n"
     ]
    },
    {
     "name": "stdout",
     "output_type": "stream",
     "text": [
      "^C\n"
     ]
    }
   ],
   "source": [
    "! jt -l #to list the theme\n",
    "! jt -t onedork #to set the theme one dork\n",
    "! jt -r #to reset the theme"
   ]
  },
  {
   "cell_type": "code",
   "execution_count": 7,
   "metadata": {
    "ExecuteTime": {
     "end_time": "2020-07-09T10:32:15.765409Z",
     "start_time": "2020-07-09T10:32:15.745408Z"
    }
   },
   "outputs": [],
   "source": [
    "def youtube_scraper(inp):\n",
    "    \n",
    "    Search = '+'.join(inp.split())\n",
    "    \n",
    "    driver = webdriver.Chrome(executable_path=r'C:\\Users\\jpravijo\\Desktop\\Anaconda\\chromedriver_win32 (1)\\chromedriver.exe')\n",
    "    driver.get('https://www.youtube.com/results?search_query='+Search)\n",
    "    html = driver.page_source\n",
    "    soup = BeautifulSoup(html)\n",
    "    search = soup.find('body', dir='ltr')\n",
    "    first_content = soup.find('div', id='content')\n",
    "        \n",
    "    link,name,channel=[],[],[]\n",
    "    \n",
    "    for i,second_content in enumerate (first_content.find_all('div', class_='text-wrapper style-scope ytd-video-renderer')):\n",
    "        try:\n",
    "\n",
    "            third_content=second_content.find('h3', class_='title-and-badge style-scope ytd-video-renderer')\n",
    "\n",
    "            # To get the link of the song\n",
    "            link.append(('https://www.youtube.com'+(third_content.a)['href']).strip())\n",
    "\n",
    "\n",
    "            # To get the name of the song\n",
    "            k=third_content.a.text.strip()\n",
    "            name.append(k)\n",
    "\n",
    "            # To get the channel details of the songs\n",
    "            channel.append(second_content.find('div', class_='hidden style-scope paper-tooltip').text.strip())\n",
    "            \n",
    "            if i>10:\n",
    "                    break\n",
    "\n",
    "        except:\n",
    "            pass\n",
    "    dic={'Name of the Songs': name, 'Channel': channel, 'Links':link}   \n",
    "    print ('\\n')\n",
    "    print ('\\033[1m' + 'These are the top 5 searches from youtube for your search'.center(50))\n",
    "    driver.close()\n",
    "    return dic"
   ]
  },
  {
   "cell_type": "code",
   "execution_count": 8,
   "metadata": {
    "ExecuteTime": {
     "end_time": "2020-07-09T10:32:45.615553Z",
     "start_time": "2020-07-09T10:32:18.034806Z"
    }
   },
   "outputs": [
    {
     "name": "stdout",
     "output_type": "stream",
     "text": [
      "enter the songs to play from youtube : Alan Walker Faded\n",
      "\n",
      "\n",
      "\u001b[1mThese are the top 5 searches from youtube for your search\n"
     ]
    },
    {
     "data": {
      "text/html": [
       "<div>\n",
       "<style scoped>\n",
       "    .dataframe tbody tr th:only-of-type {\n",
       "        vertical-align: middle;\n",
       "    }\n",
       "\n",
       "    .dataframe tbody tr th {\n",
       "        vertical-align: top;\n",
       "    }\n",
       "\n",
       "    .dataframe thead th {\n",
       "        text-align: right;\n",
       "    }\n",
       "</style>\n",
       "<table border=\"1\" class=\"dataframe\">\n",
       "  <thead>\n",
       "    <tr style=\"text-align: right;\">\n",
       "      <th></th>\n",
       "      <th>Name of the Songs</th>\n",
       "      <th>Channel</th>\n",
       "      <th>Links</th>\n",
       "    </tr>\n",
       "  </thead>\n",
       "  <tbody>\n",
       "    <tr>\n",
       "      <th>0</th>\n",
       "      <td>Alan Walker - Faded</td>\n",
       "      <td>Alan Walker</td>\n",
       "      <td>https://www.youtube.com/watch?v=60ItHLz5WEA</td>\n",
       "    </tr>\n",
       "    <tr>\n",
       "      <th>1</th>\n",
       "      <td>Alan Walker - Faded (Live Performance)</td>\n",
       "      <td>Alan Walker</td>\n",
       "      <td>https://www.youtube.com/watch?v=mIxlvVlOIS0</td>\n",
       "    </tr>\n",
       "    <tr>\n",
       "      <th>2</th>\n",
       "      <td>Alan Walker - Faded (Lyrics)</td>\n",
       "      <td>7clouds</td>\n",
       "      <td>https://www.youtube.com/watch?v=qdpXxGPqW-Y</td>\n",
       "    </tr>\n",
       "    <tr>\n",
       "      <th>3</th>\n",
       "      <td>ALAN WALKER – Faded / Different World feat. Ju...</td>\n",
       "      <td>KKBOX</td>\n",
       "      <td>https://www.youtube.com/watch?v=n03IDJcsy5g</td>\n",
       "    </tr>\n",
       "    <tr>\n",
       "      <th>4</th>\n",
       "      <td>Alan Walker - Fade [NCS Release]</td>\n",
       "      <td>NoCopyrightSounds</td>\n",
       "      <td>https://www.youtube.com/watch?v=bM7SZ5SBzyY</td>\n",
       "    </tr>\n",
       "  </tbody>\n",
       "</table>\n",
       "</div>"
      ],
      "text/plain": [
       "                                   Name of the Songs            Channel  \\\n",
       "0                                Alan Walker - Faded        Alan Walker   \n",
       "1             Alan Walker - Faded (Live Performance)        Alan Walker   \n",
       "2                       Alan Walker - Faded (Lyrics)            7clouds   \n",
       "3  ALAN WALKER – Faded / Different World feat. Ju...              KKBOX   \n",
       "4                   Alan Walker - Fade [NCS Release]  NoCopyrightSounds   \n",
       "\n",
       "                                         Links  \n",
       "0  https://www.youtube.com/watch?v=60ItHLz5WEA  \n",
       "1  https://www.youtube.com/watch?v=mIxlvVlOIS0  \n",
       "2  https://www.youtube.com/watch?v=qdpXxGPqW-Y  \n",
       "3  https://www.youtube.com/watch?v=n03IDJcsy5g  \n",
       "4  https://www.youtube.com/watch?v=bM7SZ5SBzyY  "
      ]
     },
     "execution_count": 8,
     "metadata": {},
     "output_type": "execute_result"
    }
   ],
   "source": [
    "inp=input('enter the songs to play from youtube : ')\n",
    "df= pd.DataFrame(youtube_scraper(inp))\n",
    "df.head()"
   ]
  },
  {
   "cell_type": "markdown",
   "metadata": {},
   "source": [
    "## To save the dataframe into HDF Format and CSV format"
   ]
  },
  {
   "cell_type": "code",
   "execution_count": 9,
   "metadata": {
    "ExecuteTime": {
     "end_time": "2020-07-09T10:32:51.440953Z",
     "start_time": "2020-07-09T10:32:45.626553Z"
    },
    "collapsed": true
   },
   "outputs": [
    {
     "name": "stderr",
     "output_type": "stream",
     "text": [
      "C:\\Users\\jpravijo\\Anaconda3\\lib\\site-packages\\tables\\path.py:155: NaturalNameWarning: object name is not a valid Python identifier: 'Alan Walker Faded'; it does not match the pattern ``^[a-zA-Z_][a-zA-Z0-9_]*$``; you will not be able to use natural naming to access this object; using ``getattr()`` will still work, though\n",
      "  check_attribute_name(name)\n",
      "C:\\Users\\jpravijo\\Anaconda3\\lib\\site-packages\\tables\\path.py:155: NaturalNameWarning: object name is not a valid Python identifier: 'Name of the Songs'; it does not match the pattern ``^[a-zA-Z_][a-zA-Z0-9_]*$``; you will not be able to use natural naming to access this object; using ``getattr()`` will still work, though\n",
      "  check_attribute_name(name)\n",
      "C:\\Users\\jpravijo\\Anaconda3\\lib\\site-packages\\tables\\attributeset.py:464: NaturalNameWarning: object name is not a valid Python identifier: 'Name of the Songs_kind'; it does not match the pattern ``^[a-zA-Z_][a-zA-Z0-9_]*$``; you will not be able to use natural naming to access this object; using ``getattr()`` will still work, though\n",
      "  check_attribute_name(name)\n",
      "C:\\Users\\jpravijo\\Anaconda3\\lib\\site-packages\\tables\\attributeset.py:464: NaturalNameWarning: object name is not a valid Python identifier: 'Name of the Songs_meta'; it does not match the pattern ``^[a-zA-Z_][a-zA-Z0-9_]*$``; you will not be able to use natural naming to access this object; using ``getattr()`` will still work, though\n",
      "  check_attribute_name(name)\n",
      "C:\\Users\\jpravijo\\Anaconda3\\lib\\site-packages\\tables\\attributeset.py:464: NaturalNameWarning: object name is not a valid Python identifier: 'Name of the Songs_dtype'; it does not match the pattern ``^[a-zA-Z_][a-zA-Z0-9_]*$``; you will not be able to use natural naming to access this object; using ``getattr()`` will still work, though\n",
      "  check_attribute_name(name)\n"
     ]
    }
   ],
   "source": [
    "hdf=pd.HDFStore(r'C:\\Users\\jpravijo\\Desktop\\Anaconda\\youtube.h5');\n",
    "hdf.put(inp,df,format='table', data_columns=True);\n",
    "df.to_csv(r'C:\\Users\\jpravijo\\Desktop\\Anaconda\\youtube.csv',mode='a')"
   ]
  },
  {
   "cell_type": "markdown",
   "metadata": {},
   "source": [
    "## Choose the Scraped data to play the songs"
   ]
  },
  {
   "cell_type": "code",
   "execution_count": 10,
   "metadata": {
    "ExecuteTime": {
     "end_time": "2020-07-09T10:33:00.964108Z",
     "start_time": "2020-07-09T10:32:51.449600Z"
    }
   },
   "outputs": [
    {
     "name": "stdout",
     "output_type": "stream",
     "text": [
      "\u001b[1mplease select the songs by choosing the indexes (e.g) 0,1,2,3,4\n",
      "0\n"
     ]
    },
    {
     "data": {
      "image/jpeg": "[encoded data removed]",
      "text/html": [
       "\n",
       "        <iframe\n",
       "            width=\"800\"\n",
       "            height=\"600\"\n",
       "            src=\"https://www.youtube.com/embed/60ItHLz5WEA\"\n",
       "            frameborder=\"0\"\n",
       "            allowfullscreen\n",
       "        ></iframe>\n",
       "        "
      ],
      "text/plain": [
       "<IPython.lib.display.YouTubeVideo at 0x1fb4ed3c6c8>"
      ]
     },
     "execution_count": 10,
     "metadata": {},
     "output_type": "execute_result"
    }
   ],
   "source": [
    "print('\\033[1m'+\"please select the songs by choosing the indexes (e.g) 0,1,2,3,4\")\n",
    "song_input=int(input())\n",
    "YouTubeVideo(df.loc[song_input, 'Links'].split('=')[1], width=800, height=600)"
   ]
  },
  {
   "cell_type": "markdown",
   "metadata": {},
   "source": [
    "## To Open the CSV which contains the Dataframe"
   ]
  },
  {
   "cell_type": "code",
   "execution_count": 11,
   "metadata": {
    "ExecuteTime": {
     "end_time": "2020-07-09T10:33:03.906661Z",
     "start_time": "2020-07-09T10:33:00.970617Z"
    }
   },
   "outputs": [],
   "source": [
    "os.startfile(r'C:\\Users\\jpravijo\\Desktop\\Anaconda\\youtube.csv')"
   ]
  },
  {
   "cell_type": "markdown",
   "metadata": {
    "ExecuteTime": {
     "end_time": "2020-07-05T07:23:17.242139Z",
     "start_time": "2020-07-05T07:23:00.927940Z"
    }
   },
   "source": [
    "## To Open the HDF which contains the Dataframe"
   ]
  },
  {
   "cell_type": "code",
   "execution_count": 12,
   "metadata": {
    "ExecuteTime": {
     "end_time": "2020-07-09T10:33:03.986233Z",
     "start_time": "2020-07-09T10:33:03.911178Z"
    }
   },
   "outputs": [
    {
     "data": {
      "text/plain": [
       "['/Alan Walker Faded',\n",
       " '/dusk to dawn',\n",
       " '/dusk to dawn song',\n",
       " '/martin garrix ',\n",
       " '/martin garrix top 5 songs',\n",
       " '/martin garrix top songs',\n",
       " '/matin garrix animals songs',\n",
       " '/rowdy baby songs',\n",
       " '/sia cheap trills']"
      ]
     },
     "execution_count": 12,
     "metadata": {},
     "output_type": "execute_result"
    }
   ],
   "source": [
    "hdf=pd.HDFStore(r'C:\\Users\\jpravijo\\Desktop\\Anaconda\\youtube.h5')\n",
    "hdf.keys()"
   ]
  },
  {
   "cell_type": "code",
   "execution_count": 13,
   "metadata": {
    "ExecuteTime": {
     "end_time": "2020-07-09T10:33:04.130767Z",
     "start_time": "2020-07-09T10:33:03.997224Z"
    }
   },
   "outputs": [
    {
     "data": {
      "text/html": [
       "<div>\n",
       "<style scoped>\n",
       "    .dataframe tbody tr th:only-of-type {\n",
       "        vertical-align: middle;\n",
       "    }\n",
       "\n",
       "    .dataframe tbody tr th {\n",
       "        vertical-align: top;\n",
       "    }\n",
       "\n",
       "    .dataframe thead th {\n",
       "        text-align: right;\n",
       "    }\n",
       "</style>\n",
       "<table border=\"1\" class=\"dataframe\">\n",
       "  <thead>\n",
       "    <tr style=\"text-align: right;\">\n",
       "      <th></th>\n",
       "      <th>Name of the Songs</th>\n",
       "      <th>Channel</th>\n",
       "      <th>Links</th>\n",
       "    </tr>\n",
       "  </thead>\n",
       "  <tbody>\n",
       "    <tr>\n",
       "      <th>0</th>\n",
       "      <td>Martin Garrix - Animals (Official Video)</td>\n",
       "      <td>Spinnin' Records</td>\n",
       "      <td>https://www.youtube.com/watch?v=gCYcHz2k5x0</td>\n",
       "    </tr>\n",
       "    <tr>\n",
       "      <th>1</th>\n",
       "      <td>Martin Garrix - Animals (Original Mix)</td>\n",
       "      <td>Spinnin' Records</td>\n",
       "      <td>https://www.youtube.com/watch?v=DuFUtL8zUAk</td>\n",
       "    </tr>\n",
       "    <tr>\n",
       "      <th>2</th>\n",
       "      <td>Martin Garrix - Animals (Bass Boosted)</td>\n",
       "      <td>BASS BOOSTED SONGS</td>\n",
       "      <td>https://www.youtube.com/watch?v=eIpLAwON_R4</td>\n",
       "    </tr>\n",
       "    <tr>\n",
       "      <th>3</th>\n",
       "      <td>Martin Garrix ANIMALS LIVE TOMORROWLAND 2016</td>\n",
       "      <td>G Ru</td>\n",
       "      <td>https://www.youtube.com/watch?v=NcK8Zyzg5eA</td>\n",
       "    </tr>\n",
       "  </tbody>\n",
       "</table>\n",
       "</div>"
      ],
      "text/plain": [
       "                              Name of the Songs             Channel  \\\n",
       "0      Martin Garrix - Animals (Official Video)    Spinnin' Records   \n",
       "1        Martin Garrix - Animals (Original Mix)    Spinnin' Records   \n",
       "2        Martin Garrix - Animals (Bass Boosted)  BASS BOOSTED SONGS   \n",
       "3  Martin Garrix ANIMALS LIVE TOMORROWLAND 2016                G Ru   \n",
       "\n",
       "                                         Links  \n",
       "0  https://www.youtube.com/watch?v=gCYcHz2k5x0  \n",
       "1  https://www.youtube.com/watch?v=DuFUtL8zUAk  \n",
       "2  https://www.youtube.com/watch?v=eIpLAwON_R4  \n",
       "3  https://www.youtube.com/watch?v=NcK8Zyzg5eA  "
      ]
     },
     "execution_count": 13,
     "metadata": {},
     "output_type": "execute_result"
    }
   ],
   "source": [
    "hdf.get('/matin garrix animals songs')"
   ]
  }
 ],
 "metadata": {
  "kernelspec": {
   "display_name": "Python 3",
   "language": "python",
   "name": "python3"
  },
  "language_info": {
   "codemirror_mode": {
    "name": "ipython",
    "version": 3
   },
   "file_extension": ".py",
   "mimetype": "text/x-python",
   "name": "python",
   "nbconvert_exporter": "python",
   "pygments_lexer": "ipython3",
   "version": "3.7.6"
  },
  "toc": {
   "base_numbering": 1,
   "nav_menu": {},
   "number_sections": true,
   "sideBar": true,
   "skip_h1_title": false,
   "title_cell": "Table of Contents",
   "title_sidebar": "Contents",
   "toc_cell": false,
   "toc_position": {},
   "toc_section_display": true,
   "toc_window_display": false
  }
 },
 "nbformat": 4,
 "nbformat_minor": 4
}
