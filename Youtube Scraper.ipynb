{
 "cells": [
  {
   "cell_type": "markdown",
   "metadata": {},
   "source": [
    "# WELCOME TO THE YOUTUBE SCRAPER USING BS4 "
   ]
  },
  {
   "cell_type": "markdown",
   "metadata": {},
   "source": [
    "Hello All, I will show you all how to scrape youtube and display the video in the Notebook itself. Also, we can store the details in the excel for further use.\n",
    "Before Scraping any website, go through their terms and conditional.\n",
    "\n",
    "You can find the code in github - https://github.com/JohnPravin97/Youtube_Scraper"
   ]
  },
  {
   "cell_type": "markdown",
   "metadata": {},
   "source": [
    "## To Import the Needed Library\n"
   ]
  },
  {
   "cell_type": "code",
   "execution_count": 1,
   "metadata": {
    "ExecuteTime": {
     "end_time": "2020-07-23T20:25:11.053646Z",
     "start_time": "2020-07-23T20:25:02.205333Z"
    }
   },
   "outputs": [],
   "source": [
    "from bs4 import BeautifulSoup \n",
    "from urllib.request import urlopen, Request\n",
    "from selenium import webdriver\n",
    "import pandas as pd\n",
    "from IPython.display import IFrame, YouTubeVideo\n",
    "#from webdriver_manager.chrome import ChromeDriverManager\n",
    "import os"
   ]
  },
  {
   "cell_type": "markdown",
   "metadata": {},
   "source": [
    "## Scraper Function"
   ]
  },
  {
   "cell_type": "code",
   "execution_count": 2,
   "metadata": {
    "ExecuteTime": {
     "end_time": "2020-07-23T20:25:11.074344Z",
     "start_time": "2020-07-23T20:25:11.062167Z"
    }
   },
   "outputs": [],
   "source": [
    "def youtube_scraper(inp):\n",
    "    \n",
    "    Search = '+'.join(inp.split())\n",
    "    \n",
    "    driver = webdriver.Chrome(executable_path=r'C:\\Users\\jpravijo\\Desktop\\Anaconda\\chromedriver_win32 (2)\\chromedriver.exe')\n",
    "    driver.get('https://www.youtube.com/results?search_query='+Search)\n",
    "    html = driver.page_source\n",
    "    soup = BeautifulSoup(html)\n",
    "    search = soup.find('body', dir='ltr')\n",
    "    first_content = soup.find('div', id='content')\n",
    "        \n",
    "    link,name,channel=[],[],[]\n",
    "    \n",
    "    for i,second_content in enumerate (first_content.find_all('div', class_='text-wrapper style-scope ytd-video-renderer')):\n",
    "        try:\n",
    "\n",
    "            third_content=second_content.find('h3', class_='title-and-badge style-scope ytd-video-renderer')\n",
    "\n",
    "            # To get the link of the song\n",
    "            link.append(('https://www.youtube.com'+(third_content.a)['href']).strip())\n",
    "\n",
    "\n",
    "            # To get the name of the song\n",
    "            k=third_content.a.text.strip()\n",
    "            name.append(k)\n",
    "\n",
    "            # To get the channel details of the songs\n",
    "            channel.append(second_content.find('div', class_='hidden style-scope paper-tooltip').text.strip())\n",
    "            \n",
    "            if i>10:\n",
    "                    break\n",
    "\n",
    "        except:\n",
    "            pass\n",
    "    dic={'Name of the Songs': name, 'Channel': channel, 'Links':link}   \n",
    "    print ('\\n')\n",
    "    print ('\\033[1m' + 'These are the top 5 searches from youtube for your search'.center(50))\n",
    "    driver.close()\n",
    "    return dic"
   ]
  },
  {
   "cell_type": "code",
   "execution_count": 3,
   "metadata": {
    "ExecuteTime": {
     "end_time": "2020-07-23T20:25:54.095023Z",
     "start_time": "2020-07-23T20:25:11.080349Z"
    },
    "scrolled": false
   },
   "outputs": [
    {
     "name": "stdout",
     "output_type": "stream",
     "text": [
      "enter the song to play from youtube - Scraping the data: pettai ullala song\n",
      "\n",
      "\n",
      "\u001b[1mThese are the top 5 searches from youtube for your search\n"
     ]
    },
    {
     "data": {
      "text/html": [
       "<div>\n",
       "<style scoped>\n",
       "    .dataframe tbody tr th:only-of-type {\n",
       "        vertical-align: middle;\n",
       "    }\n",
       "\n",
       "    .dataframe tbody tr th {\n",
       "        vertical-align: top;\n",
       "    }\n",
       "\n",
       "    .dataframe thead th {\n",
       "        text-align: right;\n",
       "    }\n",
       "</style>\n",
       "<table border=\"1\" class=\"dataframe\">\n",
       "  <thead>\n",
       "    <tr style=\"text-align: right;\">\n",
       "      <th></th>\n",
       "      <th>Name of the Songs</th>\n",
       "      <th>Channel</th>\n",
       "      <th>Links</th>\n",
       "    </tr>\n",
       "  </thead>\n",
       "  <tbody>\n",
       "    <tr>\n",
       "      <th>0</th>\n",
       "      <td>Ullaallaa Official Video (Tamil) | Petta Video...</td>\n",
       "      <td>Sony Music South</td>\n",
       "      <td>https://www.youtube.com/watch?v=oLgzs8nut3A</td>\n",
       "    </tr>\n",
       "    <tr>\n",
       "      <th>1</th>\n",
       "      <td>Ullaallaa Lyric Video – Petta | Superstar Raji...</td>\n",
       "      <td>Sun TV</td>\n",
       "      <td>https://www.youtube.com/watch?v=UvQ9y4w8unE</td>\n",
       "    </tr>\n",
       "    <tr>\n",
       "      <th>2</th>\n",
       "      <td>Petta - Marana Mass Official Video (Tamil) | R...</td>\n",
       "      <td>Sony Music South</td>\n",
       "      <td>https://www.youtube.com/watch?v=88iypMO9H7g</td>\n",
       "    </tr>\n",
       "    <tr>\n",
       "      <th>3</th>\n",
       "      <td>Petta - Petta Paraak Video (Tamil) | Rajinikan...</td>\n",
       "      <td>SonyMusicSouthVEVO</td>\n",
       "      <td>https://www.youtube.com/watch?v=GlJBrOzIzAM</td>\n",
       "    </tr>\n",
       "    <tr>\n",
       "      <th>4</th>\n",
       "      <td>Ullaalla Song Lyric - Tamil | Petta Songs | Ra...</td>\n",
       "      <td>Sony Music South</td>\n",
       "      <td>https://www.youtube.com/watch?v=xiaMg9Xrzyc</td>\n",
       "    </tr>\n",
       "  </tbody>\n",
       "</table>\n",
       "</div>"
      ],
      "text/plain": [
       "                                   Name of the Songs             Channel  \\\n",
       "0  Ullaallaa Official Video (Tamil) | Petta Video...    Sony Music South   \n",
       "1  Ullaallaa Lyric Video – Petta | Superstar Raji...              Sun TV   \n",
       "2  Petta - Marana Mass Official Video (Tamil) | R...    Sony Music South   \n",
       "3  Petta - Petta Paraak Video (Tamil) | Rajinikan...  SonyMusicSouthVEVO   \n",
       "4  Ullaalla Song Lyric - Tamil | Petta Songs | Ra...    Sony Music South   \n",
       "\n",
       "                                         Links  \n",
       "0  https://www.youtube.com/watch?v=oLgzs8nut3A  \n",
       "1  https://www.youtube.com/watch?v=UvQ9y4w8unE  \n",
       "2  https://www.youtube.com/watch?v=88iypMO9H7g  \n",
       "3  https://www.youtube.com/watch?v=GlJBrOzIzAM  \n",
       "4  https://www.youtube.com/watch?v=xiaMg9Xrzyc  "
      ]
     },
     "execution_count": 3,
     "metadata": {},
     "output_type": "execute_result"
    }
   ],
   "source": [
    "inp=input('enter the song to play from youtube - Scraping the data: ')\n",
    "df= pd.DataFrame(youtube_scraper(inp))\n",
    "df.head()"
   ]
  },
  {
   "cell_type": "markdown",
   "metadata": {},
   "source": [
    "## Choose the Scraped data to play the songs"
   ]
  },
  {
   "cell_type": "code",
   "execution_count": 4,
   "metadata": {
    "ExecuteTime": {
     "end_time": "2020-07-23T20:26:21.006192Z",
     "start_time": "2020-07-23T20:26:14.702995Z"
    }
   },
   "outputs": [
    {
     "name": "stdout",
     "output_type": "stream",
     "text": [
      "\u001b[1mplease select the songs by choosing the indexes (e.g) 0,1,2,3,4\n",
      "0\n"
     ]
    },
    {
     "data": {
      "image/jpeg": "[encoded data removed]",
      "text/html": [
       "\n",
       "        <iframe\n",
       "            width=\"800\"\n",
       "            height=\"600\"\n",
       "            src=\"https://www.youtube.com/embed/oLgzs8nut3A\"\n",
       "            frameborder=\"0\"\n",
       "            allowfullscreen\n",
       "        ></iframe>\n",
       "        "
      ],
      "text/plain": [
       "<IPython.lib.display.YouTubeVideo at 0x27ddaaedc08>"
      ]
     },
     "execution_count": 4,
     "metadata": {},
     "output_type": "execute_result"
    }
   ],
   "source": [
    "print('\\033[1m'+\"please select the songs by choosing the indexes (e.g) 0,1,2,3,4\")\n",
    "song_input=int(input())\n",
    "YouTubeVideo(df.loc[song_input, 'Links'].split('=')[1], width=800, height=600)"
   ]
  },
  {
   "cell_type": "code",
   "execution_count": null,
   "metadata": {},
   "outputs": [],
   "source": [
    "Thank You"
   ]
  },
  {
   "cell_type": "markdown",
   "metadata": {
    "heading_collapsed": true
   },
   "source": [
    "## To save the dataframe into HDF Format and CSV format"
   ]
  },
  {
   "cell_type": "code",
   "execution_count": 5,
   "metadata": {
    "ExecuteTime": {
     "end_time": "2020-07-21T15:31:14.522932Z",
     "start_time": "2020-07-21T15:31:09.954870Z"
    },
    "collapsed": true,
    "hidden": true
   },
   "outputs": [
    {
     "name": "stderr",
     "output_type": "stream",
     "text": [
      "C:\\Users\\jpravijo\\Anaconda3\\lib\\site-packages\\tables\\path.py:155: NaturalNameWarning: object name is not a valid Python identifier: 'Alan Walker animal song'; it does not match the pattern ``^[a-zA-Z_][a-zA-Z0-9_]*$``; you will not be able to use natural naming to access this object; using ``getattr()`` will still work, though\n",
      "  check_attribute_name(name)\n",
      "C:\\Users\\jpravijo\\Anaconda3\\lib\\site-packages\\tables\\path.py:155: NaturalNameWarning: object name is not a valid Python identifier: 'Name of the Songs'; it does not match the pattern ``^[a-zA-Z_][a-zA-Z0-9_]*$``; you will not be able to use natural naming to access this object; using ``getattr()`` will still work, though\n",
      "  check_attribute_name(name)\n",
      "C:\\Users\\jpravijo\\Anaconda3\\lib\\site-packages\\tables\\attributeset.py:464: NaturalNameWarning: object name is not a valid Python identifier: 'Name of the Songs_kind'; it does not match the pattern ``^[a-zA-Z_][a-zA-Z0-9_]*$``; you will not be able to use natural naming to access this object; using ``getattr()`` will still work, though\n",
      "  check_attribute_name(name)\n",
      "C:\\Users\\jpravijo\\Anaconda3\\lib\\site-packages\\tables\\attributeset.py:464: NaturalNameWarning: object name is not a valid Python identifier: 'Name of the Songs_meta'; it does not match the pattern ``^[a-zA-Z_][a-zA-Z0-9_]*$``; you will not be able to use natural naming to access this object; using ``getattr()`` will still work, though\n",
      "  check_attribute_name(name)\n",
      "C:\\Users\\jpravijo\\Anaconda3\\lib\\site-packages\\tables\\attributeset.py:464: NaturalNameWarning: object name is not a valid Python identifier: 'Name of the Songs_dtype'; it does not match the pattern ``^[a-zA-Z_][a-zA-Z0-9_]*$``; you will not be able to use natural naming to access this object; using ``getattr()`` will still work, though\n",
      "  check_attribute_name(name)\n"
     ]
    },
    {
     "ename": "PermissionError",
     "evalue": "[Errno 13] Permission denied: 'C:\\\\Users\\\\jpravijo\\\\Desktop\\\\Anaconda\\\\youtube.csv'",
     "output_type": "error",
     "traceback": [
      "\u001b[1;31m---------------------------------------------------------------------------\u001b[0m",
      "\u001b[1;31mPermissionError\u001b[0m                           Traceback (most recent call last)",
      "\u001b[1;32m<ipython-input-5-0d997be4e698>\u001b[0m in \u001b[0;36m<module>\u001b[1;34m\u001b[0m\n\u001b[0;32m      1\u001b[0m \u001b[0mhdf\u001b[0m\u001b[1;33m=\u001b[0m\u001b[0mpd\u001b[0m\u001b[1;33m.\u001b[0m\u001b[0mHDFStore\u001b[0m\u001b[1;33m(\u001b[0m\u001b[1;34mr'C:\\Users\\jpravijo\\Desktop\\Anaconda\\youtube.h5'\u001b[0m\u001b[1;33m)\u001b[0m\u001b[1;33m;\u001b[0m\u001b[1;33m\u001b[0m\u001b[1;33m\u001b[0m\u001b[0m\n\u001b[0;32m      2\u001b[0m \u001b[0mhdf\u001b[0m\u001b[1;33m.\u001b[0m\u001b[0mput\u001b[0m\u001b[1;33m(\u001b[0m\u001b[0minp\u001b[0m\u001b[1;33m,\u001b[0m\u001b[0mdf\u001b[0m\u001b[1;33m,\u001b[0m\u001b[0mformat\u001b[0m\u001b[1;33m=\u001b[0m\u001b[1;34m'table'\u001b[0m\u001b[1;33m,\u001b[0m \u001b[0mdata_columns\u001b[0m\u001b[1;33m=\u001b[0m\u001b[1;32mTrue\u001b[0m\u001b[1;33m)\u001b[0m\u001b[1;33m;\u001b[0m\u001b[1;33m\u001b[0m\u001b[1;33m\u001b[0m\u001b[0m\n\u001b[1;32m----> 3\u001b[1;33m \u001b[0mdf\u001b[0m\u001b[1;33m.\u001b[0m\u001b[0mto_csv\u001b[0m\u001b[1;33m(\u001b[0m\u001b[1;34mr'C:\\Users\\jpravijo\\Desktop\\Anaconda\\youtube.csv'\u001b[0m\u001b[1;33m,\u001b[0m\u001b[0mmode\u001b[0m\u001b[1;33m=\u001b[0m\u001b[1;34m'a'\u001b[0m\u001b[1;33m)\u001b[0m\u001b[1;33m;\u001b[0m\u001b[1;33m\u001b[0m\u001b[1;33m\u001b[0m\u001b[0m\n\u001b[0m",
      "\u001b[1;32m~\\Anaconda3\\lib\\site-packages\\pandas\\core\\generic.py\u001b[0m in \u001b[0;36mto_csv\u001b[1;34m(self, path_or_buf, sep, na_rep, float_format, columns, header, index, index_label, mode, encoding, compression, quoting, quotechar, line_terminator, chunksize, date_format, doublequote, escapechar, decimal)\u001b[0m\n\u001b[0;32m   3202\u001b[0m             \u001b[0mdecimal\u001b[0m\u001b[1;33m=\u001b[0m\u001b[0mdecimal\u001b[0m\u001b[1;33m,\u001b[0m\u001b[1;33m\u001b[0m\u001b[1;33m\u001b[0m\u001b[0m\n\u001b[0;32m   3203\u001b[0m         )\n\u001b[1;32m-> 3204\u001b[1;33m         \u001b[0mformatter\u001b[0m\u001b[1;33m.\u001b[0m\u001b[0msave\u001b[0m\u001b[1;33m(\u001b[0m\u001b[1;33m)\u001b[0m\u001b[1;33m\u001b[0m\u001b[1;33m\u001b[0m\u001b[0m\n\u001b[0m\u001b[0;32m   3205\u001b[0m \u001b[1;33m\u001b[0m\u001b[0m\n\u001b[0;32m   3206\u001b[0m         \u001b[1;32mif\u001b[0m \u001b[0mpath_or_buf\u001b[0m \u001b[1;32mis\u001b[0m \u001b[1;32mNone\u001b[0m\u001b[1;33m:\u001b[0m\u001b[1;33m\u001b[0m\u001b[1;33m\u001b[0m\u001b[0m\n",
      "\u001b[1;32m~\\Anaconda3\\lib\\site-packages\\pandas\\io\\formats\\csvs.py\u001b[0m in \u001b[0;36msave\u001b[1;34m(self)\u001b[0m\n\u001b[0;32m    186\u001b[0m                 \u001b[0mself\u001b[0m\u001b[1;33m.\u001b[0m\u001b[0mmode\u001b[0m\u001b[1;33m,\u001b[0m\u001b[1;33m\u001b[0m\u001b[1;33m\u001b[0m\u001b[0m\n\u001b[0;32m    187\u001b[0m                 \u001b[0mencoding\u001b[0m\u001b[1;33m=\u001b[0m\u001b[0mself\u001b[0m\u001b[1;33m.\u001b[0m\u001b[0mencoding\u001b[0m\u001b[1;33m,\u001b[0m\u001b[1;33m\u001b[0m\u001b[1;33m\u001b[0m\u001b[0m\n\u001b[1;32m--> 188\u001b[1;33m                 \u001b[0mcompression\u001b[0m\u001b[1;33m=\u001b[0m\u001b[0mdict\u001b[0m\u001b[1;33m(\u001b[0m\u001b[0mself\u001b[0m\u001b[1;33m.\u001b[0m\u001b[0mcompression_args\u001b[0m\u001b[1;33m,\u001b[0m \u001b[0mmethod\u001b[0m\u001b[1;33m=\u001b[0m\u001b[0mself\u001b[0m\u001b[1;33m.\u001b[0m\u001b[0mcompression\u001b[0m\u001b[1;33m)\u001b[0m\u001b[1;33m,\u001b[0m\u001b[1;33m\u001b[0m\u001b[1;33m\u001b[0m\u001b[0m\n\u001b[0m\u001b[0;32m    189\u001b[0m             )\n\u001b[0;32m    190\u001b[0m             \u001b[0mclose\u001b[0m \u001b[1;33m=\u001b[0m \u001b[1;32mTrue\u001b[0m\u001b[1;33m\u001b[0m\u001b[1;33m\u001b[0m\u001b[0m\n",
      "\u001b[1;32m~\\Anaconda3\\lib\\site-packages\\pandas\\io\\common.py\u001b[0m in \u001b[0;36mget_handle\u001b[1;34m(path_or_buf, mode, encoding, compression, memory_map, is_text)\u001b[0m\n\u001b[0;32m    426\u001b[0m         \u001b[1;32mif\u001b[0m \u001b[0mencoding\u001b[0m\u001b[1;33m:\u001b[0m\u001b[1;33m\u001b[0m\u001b[1;33m\u001b[0m\u001b[0m\n\u001b[0;32m    427\u001b[0m             \u001b[1;31m# Encoding\u001b[0m\u001b[1;33m\u001b[0m\u001b[1;33m\u001b[0m\u001b[1;33m\u001b[0m\u001b[0m\n\u001b[1;32m--> 428\u001b[1;33m             \u001b[0mf\u001b[0m \u001b[1;33m=\u001b[0m \u001b[0mopen\u001b[0m\u001b[1;33m(\u001b[0m\u001b[0mpath_or_buf\u001b[0m\u001b[1;33m,\u001b[0m \u001b[0mmode\u001b[0m\u001b[1;33m,\u001b[0m \u001b[0mencoding\u001b[0m\u001b[1;33m=\u001b[0m\u001b[0mencoding\u001b[0m\u001b[1;33m,\u001b[0m \u001b[0mnewline\u001b[0m\u001b[1;33m=\u001b[0m\u001b[1;34m\"\"\u001b[0m\u001b[1;33m)\u001b[0m\u001b[1;33m\u001b[0m\u001b[1;33m\u001b[0m\u001b[0m\n\u001b[0m\u001b[0;32m    429\u001b[0m         \u001b[1;32melif\u001b[0m \u001b[0mis_text\u001b[0m\u001b[1;33m:\u001b[0m\u001b[1;33m\u001b[0m\u001b[1;33m\u001b[0m\u001b[0m\n\u001b[0;32m    430\u001b[0m             \u001b[1;31m# No explicit encoding\u001b[0m\u001b[1;33m\u001b[0m\u001b[1;33m\u001b[0m\u001b[1;33m\u001b[0m\u001b[0m\n",
      "\u001b[1;31mPermissionError\u001b[0m: [Errno 13] Permission denied: 'C:\\\\Users\\\\jpravijo\\\\Desktop\\\\Anaconda\\\\youtube.csv'"
     ]
    }
   ],
   "source": [
    "hdf=pd.HDFStore(r'C:\\Users\\jpravijo\\Desktop\\Anaconda\\youtube.h5');\n",
    "hdf.put(inp,df,format='table', data_columns=True);\n",
    "df.to_csv(r'C:\\Users\\jpravijo\\Desktop\\Anaconda\\youtube.csv',mode='a');"
   ]
  },
  {
   "cell_type": "markdown",
   "metadata": {
    "heading_collapsed": true
   },
   "source": [
    "## To open the CSV which contains the Dataframe"
   ]
  },
  {
   "cell_type": "code",
   "execution_count": 7,
   "metadata": {
    "ExecuteTime": {
     "end_time": "2020-07-21T14:53:35.042235Z",
     "start_time": "2020-07-21T14:53:32.581798Z"
    },
    "hidden": true
   },
   "outputs": [],
   "source": [
    "os.startfile(r'C:\\Users\\jpravijo\\Desktop\\Anaconda\\youtube.csv')"
   ]
  },
  {
   "cell_type": "markdown",
   "metadata": {
    "ExecuteTime": {
     "end_time": "2020-07-05T07:23:17.242139Z",
     "start_time": "2020-07-05T07:23:00.927940Z"
    },
    "heading_collapsed": true
   },
   "source": [
    "## To open the HDF which contains the Dataframe"
   ]
  },
  {
   "cell_type": "code",
   "execution_count": 8,
   "metadata": {
    "ExecuteTime": {
     "end_time": "2020-07-21T14:53:40.279973Z",
     "start_time": "2020-07-21T14:53:40.256470Z"
    },
    "hidden": true
   },
   "outputs": [
    {
     "data": {
      "text/plain": [
       "['/Alan Walker Faded',\n",
       " '/Alan Walker Faded song',\n",
       " '/dusk to dawn',\n",
       " '/dusk to dawn song',\n",
       " '/martin garrix ',\n",
       " '/martin garrix top 5 songs',\n",
       " '/martin garrix top songs',\n",
       " '/matin garrix animals songs',\n",
       " '/rowdy baby songs',\n",
       " '/sia cheap trills']"
      ]
     },
     "execution_count": 8,
     "metadata": {},
     "output_type": "execute_result"
    }
   ],
   "source": [
    "hdf=pd.HDFStore(r'C:\\Users\\jpravijo\\Desktop\\Anaconda\\youtube.h5')\n",
    "hdf.keys()"
   ]
  },
  {
   "cell_type": "code",
   "execution_count": 10,
   "metadata": {
    "ExecuteTime": {
     "end_time": "2020-07-21T14:55:02.679126Z",
     "start_time": "2020-07-21T14:55:02.646624Z"
    },
    "hidden": true
   },
   "outputs": [
    {
     "data": {
      "text/html": [
       "<div>\n",
       "<style scoped>\n",
       "    .dataframe tbody tr th:only-of-type {\n",
       "        vertical-align: middle;\n",
       "    }\n",
       "\n",
       "    .dataframe tbody tr th {\n",
       "        vertical-align: top;\n",
       "    }\n",
       "\n",
       "    .dataframe thead th {\n",
       "        text-align: right;\n",
       "    }\n",
       "</style>\n",
       "<table border=\"1\" class=\"dataframe\">\n",
       "  <thead>\n",
       "    <tr style=\"text-align: right;\">\n",
       "      <th></th>\n",
       "      <th>Name of the Songs</th>\n",
       "      <th>Channel</th>\n",
       "      <th>Links</th>\n",
       "    </tr>\n",
       "  </thead>\n",
       "  <tbody>\n",
       "    <tr>\n",
       "      <th>0</th>\n",
       "      <td>Alan Walker - Faded</td>\n",
       "      <td>Alan Walker</td>\n",
       "      <td>https://www.youtube.com/watch?v=60ItHLz5WEA</td>\n",
       "    </tr>\n",
       "    <tr>\n",
       "      <th>1</th>\n",
       "      <td>Alan Walker - Faded (Live Performance)</td>\n",
       "      <td>Alan Walker</td>\n",
       "      <td>https://www.youtube.com/watch?v=mIxlvVlOIS0</td>\n",
       "    </tr>\n",
       "    <tr>\n",
       "      <th>2</th>\n",
       "      <td>Alan Walker - Faded (Lyrics)</td>\n",
       "      <td>7clouds</td>\n",
       "      <td>https://www.youtube.com/watch?v=qdpXxGPqW-Y</td>\n",
       "    </tr>\n",
       "    <tr>\n",
       "      <th>3</th>\n",
       "      <td>Faded - Alan Walker (Lyrics)</td>\n",
       "      <td>DopeLyrics</td>\n",
       "      <td>https://www.youtube.com/watch?v=reuYXbHOc1c</td>\n",
       "    </tr>\n",
       "    <tr>\n",
       "      <th>4</th>\n",
       "      <td>Alan Walker - Faded (Where are you now) Lyrics</td>\n",
       "      <td>Best song lyrics</td>\n",
       "      <td>https://www.youtube.com/watch?v=dnZItt33cvI</td>\n",
       "    </tr>\n",
       "    <tr>\n",
       "      <th>5</th>\n",
       "      <td>Alan Walker - Faded (Reworks)</td>\n",
       "      <td>Hidden Book</td>\n",
       "      <td>https://www.youtube.com/watch?v=avytvFalI6o</td>\n",
       "    </tr>\n",
       "    <tr>\n",
       "      <th>6</th>\n",
       "      <td>ALAN WALKER – Faded / Different World feat. Ju...</td>\n",
       "      <td>KKBOX</td>\n",
       "      <td>https://www.youtube.com/watch?v=n03IDJcsy5g</td>\n",
       "    </tr>\n",
       "    <tr>\n",
       "      <th>7</th>\n",
       "      <td>Alan Walker, Sabrina Carpenter &amp; Farruko  - On...</td>\n",
       "      <td>Alan Walker</td>\n",
       "      <td>https://www.youtube.com/watch?v=dhYOPzcsbGM</td>\n",
       "    </tr>\n",
       "    <tr>\n",
       "      <th>8</th>\n",
       "      <td>New Songs Alan Walker 2019 - Top 20 Alan Walke...</td>\n",
       "      <td>Listen To Music</td>\n",
       "      <td>https://www.youtube.com/watch?v=WWCsGEarExg</td>\n",
       "    </tr>\n",
       "    <tr>\n",
       "      <th>9</th>\n",
       "      <td>Alan Walker - Faded</td>\n",
       "      <td>Conor Maynard</td>\n",
       "      <td>https://www.youtube.com/watch?v=IgCphQCkHSk</td>\n",
       "    </tr>\n",
       "    <tr>\n",
       "      <th>10</th>\n",
       "      <td>Faded Alan Walker - Frozen Music Video</td>\n",
       "      <td>Disney Princess</td>\n",
       "      <td>https://www.youtube.com/watch?v=B6jsddn01Cs</td>\n",
       "    </tr>\n",
       "    <tr>\n",
       "      <th>11</th>\n",
       "      <td>Alan Walker feat. Iselin Solheim - faded Live</td>\n",
       "      <td>PERCY MUSIC</td>\n",
       "      <td>https://www.youtube.com/watch?v=T2DbC5DR7pU</td>\n",
       "    </tr>\n",
       "  </tbody>\n",
       "</table>\n",
       "</div>"
      ],
      "text/plain": [
       "                                    Name of the Songs           Channel  \\\n",
       "0                                 Alan Walker - Faded       Alan Walker   \n",
       "1              Alan Walker - Faded (Live Performance)       Alan Walker   \n",
       "2                        Alan Walker - Faded (Lyrics)           7clouds   \n",
       "3                        Faded - Alan Walker (Lyrics)        DopeLyrics   \n",
       "4      Alan Walker - Faded (Where are you now) Lyrics  Best song lyrics   \n",
       "5                       Alan Walker - Faded (Reworks)       Hidden Book   \n",
       "6   ALAN WALKER – Faded / Different World feat. Ju...             KKBOX   \n",
       "7   Alan Walker, Sabrina Carpenter & Farruko  - On...       Alan Walker   \n",
       "8   New Songs Alan Walker 2019 - Top 20 Alan Walke...   Listen To Music   \n",
       "9                                 Alan Walker - Faded     Conor Maynard   \n",
       "10             Faded Alan Walker - Frozen Music Video   Disney Princess   \n",
       "11      Alan Walker feat. Iselin Solheim - faded Live       PERCY MUSIC   \n",
       "\n",
       "                                          Links  \n",
       "0   https://www.youtube.com/watch?v=60ItHLz5WEA  \n",
       "1   https://www.youtube.com/watch?v=mIxlvVlOIS0  \n",
       "2   https://www.youtube.com/watch?v=qdpXxGPqW-Y  \n",
       "3   https://www.youtube.com/watch?v=reuYXbHOc1c  \n",
       "4   https://www.youtube.com/watch?v=dnZItt33cvI  \n",
       "5   https://www.youtube.com/watch?v=avytvFalI6o  \n",
       "6   https://www.youtube.com/watch?v=n03IDJcsy5g  \n",
       "7   https://www.youtube.com/watch?v=dhYOPzcsbGM  \n",
       "8   https://www.youtube.com/watch?v=WWCsGEarExg  \n",
       "9   https://www.youtube.com/watch?v=IgCphQCkHSk  \n",
       "10  https://www.youtube.com/watch?v=B6jsddn01Cs  \n",
       "11  https://www.youtube.com/watch?v=T2DbC5DR7pU  "
      ]
     },
     "execution_count": 10,
     "metadata": {},
     "output_type": "execute_result"
    }
   ],
   "source": [
    "hdf.get('/Alan Walker Faded song')"
   ]
  },
  {
   "cell_type": "markdown",
   "metadata": {
    "hidden": true
   },
   "source": [
    "THANK YOU "
   ]
  }
 ],
 "metadata": {
  "kernelspec": {
   "display_name": "Python 3",
   "language": "python",
   "name": "python3"
  },
  "language_info": {
   "codemirror_mode": {
    "name": "ipython",
    "version": 3
   },
   "file_extension": ".py",
   "mimetype": "text/x-python",
   "name": "python",
   "nbconvert_exporter": "python",
   "pygments_lexer": "ipython3",
   "version": "3.7.6"
  },
  "toc": {
   "base_numbering": 1,
   "nav_menu": {},
   "number_sections": true,
   "sideBar": true,
   "skip_h1_title": false,
   "title_cell": "Table of Contents",
   "title_sidebar": "Contents",
   "toc_cell": false,
   "toc_position": {},
   "toc_section_display": true,
   "toc_window_display": false
  }
 },
 "nbformat": 4,
 "nbformat_minor": 4
}
